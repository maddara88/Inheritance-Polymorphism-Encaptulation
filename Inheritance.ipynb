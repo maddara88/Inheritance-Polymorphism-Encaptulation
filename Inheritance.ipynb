{
 "cells": [
  {
   "cell_type": "markdown",
   "id": "19ba4cd0",
   "metadata": {},
   "source": [
    "# Inheritance"
   ]
  },
  {
   "cell_type": "code",
   "execution_count": 9,
   "id": "9731da4a",
   "metadata": {},
   "outputs": [
    {
     "name": "stdout",
     "output_type": "stream",
     "text": [
      "Hello i am Batman\n",
      " \n",
      "Hello i am superman\n"
     ]
    }
   ],
   "source": [
    "class A:\n",
    "    def fun1(self):\n",
    "        print(\"Hello i am Batman\")\n",
    "        \n",
    "class B:\n",
    "    def fun2(self):\n",
    "        print(\"Hello i am superman\")\n",
    "        \n",
    "        \n",
    "a = A()\n",
    "a.fun1()\n",
    "\n",
    "print(\" \")\n",
    "\n",
    "b = B()\n",
    "b.fun2()"
   ]
  },
  {
   "cell_type": "code",
   "execution_count": 12,
   "id": "942ced88",
   "metadata": {},
   "outputs": [],
   "source": [
    "class Info:\n",
    "    def __init__(self,name,age):\n",
    "        \n",
    "        self.name = name\n",
    "        self.age = age\n",
    "        \n",
    "    def greet(self):\n",
    "        print(f\"Hello {self.name}!! you are {self.age} years old!!\")"
   ]
  },
  {
   "cell_type": "code",
   "execution_count": 14,
   "id": "d963640b",
   "metadata": {},
   "outputs": [
    {
     "name": "stdout",
     "output_type": "stream",
     "text": [
      "Hello Goku!! you are 34 years old!!\n"
     ]
    }
   ],
   "source": [
    "p = Info(\"Goku\",34)\n",
    "p.greet()"
   ]
  },
  {
   "cell_type": "code",
   "execution_count": 17,
   "id": "bc7f7709",
   "metadata": {},
   "outputs": [],
   "source": [
    "class Naruto:\n",
    "    def __init__(self,name,age,power):\n",
    "        self.name= name\n",
    "        self.age = age\n",
    "        self.power = power\n",
    "    \n",
    "    def Name(self):\n",
    "        print(f\"{self.name}\")\n",
    "    def Age(self):\n",
    "        print(f\"{self.age}\")\n",
    "    def Power(self):\n",
    "        print(f\"{self.power}\")\n",
    "        \n",
    "class Sauske:\n",
    "    def __init__(self,name,age,power):\n",
    "        self.name= name\n",
    "        self.age = age\n",
    "        self.power = power\n",
    "    \n",
    "    def Name(self):\n",
    "        print(f\"{self.name}\")\n",
    "    def Age(self):\n",
    "        print(f\"{self.age}\")\n",
    "    def Power(self):\n",
    "        print(f\"{self.power}\")       \n"
   ]
  },
  {
   "cell_type": "code",
   "execution_count": 18,
   "id": "8ef85bf9",
   "metadata": {},
   "outputs": [],
   "source": [
    "b = Naruto(\"Naruto_Uzumaki\",19,\"Kuram\")\n",
    "c = Sauske(\"Sauske_Uchiha\",19,\"Sharingan\")"
   ]
  },
  {
   "cell_type": "code",
   "execution_count": 20,
   "id": "97e77dfe",
   "metadata": {},
   "outputs": [
    {
     "name": "stdout",
     "output_type": "stream",
     "text": [
      "Naruto_Uzumaki\n",
      "Sauske_Uchiha\n"
     ]
    }
   ],
   "source": [
    "b.Name()\n",
    "c.Name()"
   ]
  },
  {
   "cell_type": "code",
   "execution_count": 22,
   "id": "d2acc9d4",
   "metadata": {},
   "outputs": [
    {
     "name": "stdout",
     "output_type": "stream",
     "text": [
      "19\n",
      "19\n"
     ]
    }
   ],
   "source": [
    "b.Age()\n",
    "c.Age()"
   ]
  },
  {
   "cell_type": "code",
   "execution_count": 23,
   "id": "f4c92840",
   "metadata": {},
   "outputs": [
    {
     "name": "stdout",
     "output_type": "stream",
     "text": [
      "Kuram\n",
      "Sharingan\n"
     ]
    }
   ],
   "source": [
    "b.Power()\n",
    "c.Power()"
   ]
  },
  {
   "cell_type": "markdown",
   "id": "752e0ad7",
   "metadata": {},
   "source": [
    "# Differrent Types of Inheritance"
   ]
  },
  {
   "cell_type": "markdown",
   "id": "1b8e8a56",
   "metadata": {},
   "source": [
    "# Single \n",
    "# Multiple\n",
    "# Multilevel"
   ]
  },
  {
   "cell_type": "code",
   "execution_count": 32,
   "id": "ce0b630a",
   "metadata": {},
   "outputs": [],
   "source": [
    "class Parent1:\n",
    "    def fun1(self):\n",
    "        print(\"this is your Father\")\n",
    "        \n",
    "class Parent2:\n",
    "    def fun2(self):\n",
    "        print(\"this is your Mother\")\n",
    "        \n",
    "class child(Parent1,Parent2):\n",
    "    def fun3(self):\n",
    "        print(\"Iam your child\")"
   ]
  },
  {
   "cell_type": "code",
   "execution_count": 33,
   "id": "1b47fa89",
   "metadata": {},
   "outputs": [],
   "source": [
    "a= Parent1()\n",
    "b = Parent2()\n",
    "c = child()"
   ]
  },
  {
   "cell_type": "code",
   "execution_count": 34,
   "id": "a72655a5",
   "metadata": {},
   "outputs": [
    {
     "name": "stdout",
     "output_type": "stream",
     "text": [
      "this is your Father\n"
     ]
    }
   ],
   "source": [
    "a.fun1()"
   ]
  },
  {
   "cell_type": "code",
   "execution_count": 35,
   "id": "242ba124",
   "metadata": {},
   "outputs": [
    {
     "name": "stdout",
     "output_type": "stream",
     "text": [
      "this is your Mother\n"
     ]
    }
   ],
   "source": [
    "b.fun2()"
   ]
  },
  {
   "cell_type": "code",
   "execution_count": 37,
   "id": "db326dc3",
   "metadata": {},
   "outputs": [
    {
     "name": "stdout",
     "output_type": "stream",
     "text": [
      "Iam your child\n"
     ]
    }
   ],
   "source": [
    "c.fun3()"
   ]
  },
  {
   "cell_type": "code",
   "execution_count": 39,
   "id": "d1c1ba63",
   "metadata": {},
   "outputs": [
    {
     "name": "stdout",
     "output_type": "stream",
     "text": [
      "this is your Mother\n"
     ]
    }
   ],
   "source": [
    "c.fun2()"
   ]
  },
  {
   "cell_type": "code",
   "execution_count": 41,
   "id": "ebaaa864",
   "metadata": {},
   "outputs": [
    {
     "name": "stdout",
     "output_type": "stream",
     "text": [
      "this is your Father\n"
     ]
    }
   ],
   "source": [
    "c.fun1()"
   ]
  },
  {
   "cell_type": "code",
   "execution_count": 48,
   "id": "3deb95e2",
   "metadata": {},
   "outputs": [],
   "source": [
    "class grandparent:\n",
    "    def fun1(self):\n",
    "        print(\"Iam you grandfather\")\n",
    "class parent(grandparent):\n",
    "    def fun2(self):\n",
    "        print(\"iam you Father\")\n",
    "class child(parent):\n",
    "    def fun3(self):\n",
    "        print(\"i am myself\")"
   ]
  },
  {
   "cell_type": "code",
   "execution_count": 49,
   "id": "93d1fcb5",
   "metadata": {},
   "outputs": [],
   "source": [
    "a = grandparent()\n",
    "b = parent()\n",
    "c = child()"
   ]
  },
  {
   "cell_type": "code",
   "execution_count": 52,
   "id": "bfb08080",
   "metadata": {},
   "outputs": [
    {
     "name": "stdout",
     "output_type": "stream",
     "text": [
      "Iam you grandfather\n"
     ]
    }
   ],
   "source": [
    "a.fun1()"
   ]
  },
  {
   "cell_type": "code",
   "execution_count": 53,
   "id": "fa1ff34a",
   "metadata": {},
   "outputs": [
    {
     "name": "stdout",
     "output_type": "stream",
     "text": [
      "iam you Father\n"
     ]
    }
   ],
   "source": [
    "b.fun2()"
   ]
  },
  {
   "cell_type": "code",
   "execution_count": 54,
   "id": "2b985117",
   "metadata": {},
   "outputs": [
    {
     "name": "stdout",
     "output_type": "stream",
     "text": [
      "i am myself\n"
     ]
    }
   ],
   "source": [
    "c.fun3()"
   ]
  },
  {
   "cell_type": "code",
   "execution_count": 55,
   "id": "2aadf7c7",
   "metadata": {},
   "outputs": [
    {
     "name": "stdout",
     "output_type": "stream",
     "text": [
      "Iam you grandfather\n"
     ]
    }
   ],
   "source": [
    "c.fun1()"
   ]
  },
  {
   "cell_type": "code",
   "execution_count": 57,
   "id": "104210cf",
   "metadata": {},
   "outputs": [
    {
     "name": "stdout",
     "output_type": "stream",
     "text": [
      "Iam you grandfather\n"
     ]
    }
   ],
   "source": [
    "b.fun1()"
   ]
  },
  {
   "cell_type": "markdown",
   "id": "682e9fd6",
   "metadata": {},
   "source": [
    "# Polymorphism "
   ]
  },
  {
   "cell_type": "code",
   "execution_count": 80,
   "id": "3b37bb93",
   "metadata": {},
   "outputs": [],
   "source": [
    "class dog:\n",
    "    def __init__(self,name):\n",
    "        self.name = name\n",
    "        \n",
    "    def info(self):\n",
    "        print(f\" i am {self.name} and i speak bow\")\n",
    "        \n",
    "class cat:\n",
    "    def __init__(self,name):\n",
    "        self.name = name\n",
    "        \n",
    "    def info(self):\n",
    "        print(f\" i am {self.name} and i speak meaow\")"
   ]
  },
  {
   "cell_type": "code",
   "execution_count": 81,
   "id": "617d8157",
   "metadata": {},
   "outputs": [],
   "source": [
    "a = dog(\"dog\")\n",
    "b = cat(\"cat\")"
   ]
  },
  {
   "cell_type": "code",
   "execution_count": 82,
   "id": "6957a788",
   "metadata": {},
   "outputs": [
    {
     "name": "stdout",
     "output_type": "stream",
     "text": [
      " i am dog and i speak bow\n",
      " i am cat and i speak meaow\n"
     ]
    }
   ],
   "source": [
    "a.info()\n",
    "b.info()"
   ]
  },
  {
   "cell_type": "code",
   "execution_count": 83,
   "id": "3d0f5512",
   "metadata": {},
   "outputs": [],
   "source": [
    "class bird:\n",
    "    def intro(self):\n",
    "        print(\"Birds have wings\")\n",
    "    def flight(self):\n",
    "        print(\"birds can fly\")\n",
    "        \n",
    "class sparrow(bird):\n",
    "    def flight(self):\n",
    "        print(\"sparrow can fly\")\n",
    "        \n",
    "class ostrich(bird):\n",
    "    def flight(self):\n",
    "        print(\"ostrich cannot fly\")\n"
   ]
  },
  {
   "cell_type": "code",
   "execution_count": 84,
   "id": "702c6e14",
   "metadata": {},
   "outputs": [],
   "source": [
    "a= bird()"
   ]
  },
  {
   "cell_type": "code",
   "execution_count": 85,
   "id": "cea099cb",
   "metadata": {},
   "outputs": [
    {
     "name": "stdout",
     "output_type": "stream",
     "text": [
      "Birds have wings\n",
      "birds can fly\n"
     ]
    }
   ],
   "source": [
    "a.intro()\n",
    "a.flight()"
   ]
  },
  {
   "cell_type": "code",
   "execution_count": 86,
   "id": "469a5bc1",
   "metadata": {},
   "outputs": [
    {
     "name": "stdout",
     "output_type": "stream",
     "text": [
      "sparrow can fly\n"
     ]
    }
   ],
   "source": [
    "b = sparrow()\n",
    "b.flight()"
   ]
  },
  {
   "cell_type": "code",
   "execution_count": 87,
   "id": "f78e894f",
   "metadata": {},
   "outputs": [
    {
     "name": "stdout",
     "output_type": "stream",
     "text": [
      "ostrich cannot fly\n"
     ]
    }
   ],
   "source": [
    "c = ostrich()\n",
    "c.flight()"
   ]
  },
  {
   "cell_type": "code",
   "execution_count": 88,
   "id": "9dc25dff",
   "metadata": {},
   "outputs": [
    {
     "name": "stdout",
     "output_type": "stream",
     "text": [
      "ostrich cannot fly\n"
     ]
    }
   ],
   "source": [
    "c.flight()"
   ]
  },
  {
   "cell_type": "code",
   "execution_count": 89,
   "id": "9dcc2892",
   "metadata": {},
   "outputs": [
    {
     "name": "stdout",
     "output_type": "stream",
     "text": [
      "Birds have wings\n"
     ]
    }
   ],
   "source": [
    "c.intro()"
   ]
  },
  {
   "cell_type": "markdown",
   "id": "d81a245f",
   "metadata": {},
   "source": [
    " # Encaptulation"
   ]
  },
  {
   "cell_type": "code",
   "execution_count": 90,
   "id": "bb45fbb2",
   "metadata": {},
   "outputs": [],
   "source": [
    "\n",
    "\n",
    "# The main difference between private and protected in encapsulation is the level of accessibility of the class\n",
    "# member from outside of the class.\n",
    "\n",
    "# A private member is not accessible from outside the class, not even from its subclasses. \n",
    "# It is only accessible from within the class in which it is defined. In Python, a private\n",
    "# member is declared by prefixing the member name with two underscores (__).\n",
    "\n",
    "# On the other hand, a protected member is accessible from within the class in which it is defined,\n",
    "# as well as from any subclasses that inherit from that class. It is not accessible from outside\n",
    "# the class hierarchy. In Python, a protected member is declared by prefixing the member name with a single underscore (_).\n",
    "\n",
    "# In summary, the difference between private and protected in encapsulation is in the level of accessibility. \n",
    "# private members are only accessible within the class, while protected members are also accessible within any \n",
    "# subclasses that inherit from that class."
   ]
  },
  {
   "cell_type": "code",
   "execution_count": 91,
   "id": "aa561127",
   "metadata": {},
   "outputs": [],
   "source": [
    "private = (__)\n",
    "protected = (_)"
   ]
  },
  {
   "cell_type": "code",
   "execution_count": 98,
   "id": "76aacaa1",
   "metadata": {},
   "outputs": [
    {
     "name": "stdout",
     "output_type": "stream",
     "text": [
      "Public variable value from parent: 30\n",
      "Public variable value from child: 30\n",
      "Protected variable value from parent: 20\n",
      "Protected variable value from child: 20\n",
      "Error accessing private variable from outside class hierarchy: 'Parent' object has no attribute '__private_var'\n",
      "Protected variable value from parent: 20\n",
      "Error accessing private variable from parent: 'Child' object has no attribute '_Child__private_var'\n"
     ]
    }
   ],
   "source": [
    "class Parent:\n",
    "    def __init__(self):\n",
    "        self.__private_var = 10\n",
    "        self._protected_var = 20\n",
    "        self.public_var = 30\n",
    "\n",
    "class Child(Parent):\n",
    "    def access_parent_members(self):\n",
    "        # Accessing the protected member from the parent class\n",
    "        print(\"Protected variable value from parent:\", self._protected_var)\n",
    "\n",
    "        # Trying to access the private member from the parent class - this will raise an AttributeError\n",
    "        try:\n",
    "            print(\"Private variable value from parent:\", self.__private_var)\n",
    "        except AttributeError as e:\n",
    "            print(f\"Error accessing private variable from parent: {e}\")\n",
    "\n",
    "parent = Parent()\n",
    "child = Child()\n",
    "\n",
    "# Accessing the public member from the parent class and child class - this is allowed\n",
    "print(\"Public variable value from parent:\", parent.public_var)\n",
    "print(\"Public variable value from child:\", child.public_var)\n",
    "\n",
    "# Trying to access the protected and private members from outside the class hierarchy - this is not allowed\n",
    "try:\n",
    "    print(\"Protected variable value from parent:\", parent._protected_var)\n",
    "    print(\"Protected variable value from child:\", child._protected_var)\n",
    "except AttributeError as e:\n",
    "    print(f\"Error accessing protected variable from outside class hierarchy: {e}\")\n",
    "\n",
    "try:\n",
    "    print(\"Private variable value from parent:\", parent.__private_var)\n",
    "    print(\"Private variable value from child:\", child.__private_var)\n",
    "except AttributeError as e:\n",
    "    print(f\"Error accessing private variable from outside class hierarchy: {e}\")\n",
    "\n",
    "# Accessing the protected member from the child class - this is allowed\n",
    "child.access_parent_members()"
   ]
  },
  {
   "cell_type": "code",
   "execution_count": null,
   "id": "25d2cd0f",
   "metadata": {},
   "outputs": [],
   "source": [
    "# In this example, we define a Parent class with private, protected, and public members,\n",
    "# and a Child class that inherits from Parent. We then create instances of both classes\n",
    "# and try to access their members from within and outside the class hierarchy.\n",
    "\n",
    "# As you can see, we can access the public member from both the Parent and Child classes,\n",
    "# and from outside the class hierarchy. However, we cannot access the protected and private\n",
    "# members from outside the class hierarchy. We can access the protected member from the Child class,\n",
    "# but we cannot access the private member from either the Parent or Child class"
   ]
  },
  {
   "cell_type": "code",
   "execution_count": null,
   "id": "19b62594",
   "metadata": {},
   "outputs": [],
   "source": []
  }
 ],
 "metadata": {
  "kernelspec": {
   "display_name": "Python 3 (ipykernel)",
   "language": "python",
   "name": "python3"
  },
  "language_info": {
   "codemirror_mode": {
    "name": "ipython",
    "version": 3
   },
   "file_extension": ".py",
   "mimetype": "text/x-python",
   "name": "python",
   "nbconvert_exporter": "python",
   "pygments_lexer": "ipython3",
   "version": "3.9.12"
  }
 },
 "nbformat": 4,
 "nbformat_minor": 5
}
